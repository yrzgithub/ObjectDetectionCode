{
 "cells": [
  {
   "cell_type": "code",
   "execution_count": null,
   "metadata": {},
   "outputs": [],
   "source": [
    "\n",
    "from selenium.webdriver import Chrome"
   ]
  },
  {
   "cell_type": "code",
   "execution_count": null,
   "metadata": {},
   "outputs": [],
   "source": [
    "from selenium.webdriver.chrome.service import Service"
   ]
  },
  {
   "cell_type": "code",
   "execution_count": null,
   "metadata": {},
   "outputs": [],
   "source": [
    "from selenium.webdriver.common.by import By"
   ]
  },
  {
   "cell_type": "code",
   "execution_count": null,
   "metadata": {},
   "outputs": [],
   "source": [
    "from selenium.webdriver.common.action_chains import ActionChains"
   ]
  },
  {
   "cell_type": "code",
   "execution_count": null,
   "metadata": {},
   "outputs": [],
   "source": [
    "import cv2"
   ]
  },
  {
   "cell_type": "code",
   "execution_count": null,
   "metadata": {},
   "outputs": [],
   "source": [
    "from numpy import uint8,frombuffer"
   ]
  },
  {
   "cell_type": "code",
   "execution_count": null,
   "metadata": {},
   "outputs": [],
   "source": [
    "from base64 import b64decode"
   ]
  },
  {
   "cell_type": "code",
   "execution_count": null,
   "metadata": {},
   "outputs": [],
   "source": [
    "from requests import get"
   ]
  },
  {
   "cell_type": "code",
   "execution_count": null,
   "metadata": {},
   "outputs": [],
   "source": [
    "import os"
   ]
  },
  {
   "cell_type": "code",
   "execution_count": null,
   "metadata": {},
   "outputs": [],
   "source": [
    "from webdriver_manager.chrome import ChromeDriverManager"
   ]
  },
  {
   "cell_type": "code",
   "execution_count": null,
   "metadata": {},
   "outputs": [],
   "source": [
    "end = \"/html/body/div[2]/c-wiz/div[3]/div[1]/div/div/div/div/div[1]/div[2]/div[1]/div[2]/div[1]/div\""
   ]
  },
  {
   "cell_type": "code",
   "execution_count": null,
   "metadata": {},
   "outputs": [],
   "source": [
    "driver = Chrome(service=Service(ChromeDriverManager().install()))\n",
    "actions = ActionChains(driver)"
   ]
  },
  {
   "cell_type": "code",
   "execution_count": null,
   "metadata": {},
   "outputs": [],
   "source": [
    "queries = []\n",
    "\n",
    "with open(\"queries.txt\") as file:\n",
    "    queries.extend(file.read().split(\"\\n\"))\n",
    "    file.close()"
   ]
  },
  {
   "cell_type": "code",
   "execution_count": null,
   "metadata": {},
   "outputs": [],
   "source": [
    "queries"
   ]
  },
  {
   "cell_type": "code",
   "execution_count": null,
   "metadata": {},
   "outputs": [],
   "source": [
    "def createDir(query):\n",
    "    folder_path = os.path.join(os.path.abspath(\"images\"),query)\n",
    "    print(folder_path)\n",
    "    if not os.path.isdir(folder_path):\n",
    "        os.makedirs(folder_path)\n",
    "        print(\"Dir Created\")\n",
    "    \n",
    "    return folder_path\n",
    "\n",
    "def getContent(source):\n",
    "    if source.startswith(\"data:image\"):\n",
    "        encoded = source.split(\",\")[-1]\n",
    "        content = b64decode(encoded)\n",
    "        extension = source.lstrip(\"data:image/\").split(\";\")[0]\n",
    "    \n",
    "    else:\n",
    "        response = get(source)\n",
    "        content = response.content\n",
    "        head = response.headers\n",
    "        extension = head[\"Content-Type\"].lstrip(\"image/\")\n",
    "    \n",
    "    return extension,content\n",
    "\n",
    "def scroll():\n",
    "    endTag = driver.find_element(By.XPATH,end)\n",
    "    show_more = driver.find_element(By.CLASS_NAME,\"LZ4I\")\n",
    "    # anyway = driver.find_element(By.CLASS_NAME,\"XfJHbe\")\n",
    "    \n",
    "    while not endTag.is_displayed():\n",
    "        driver.execute_script(\"window.scrollBy(0,100)\")\n",
    "\n",
    "        if show_more.is_displayed():\n",
    "            show_more.click()\n",
    "            print(\"Show more clicked\")"
   ]
  },
  {
   "cell_type": "code",
   "execution_count": null,
   "metadata": {},
   "outputs": [],
   "source": [
    "for query in queries:\n",
    "    cv2.destroyAllWindows()\n",
    "\n",
    "    count = 1\n",
    "\n",
    "    folder = createDir(query)\n",
    "\n",
    "    url = \"https://www.google.com/images?q=\" + query\n",
    "    driver.get(url)\n",
    "    \n",
    "    scroll()\n",
    "\n",
    "    image_elements = driver.find_element(By.CLASS_NAME,\"mJxzWe\").find_elements(By.TAG_NAME,\"img\")\n",
    "    \n",
    "    for imgTag in image_elements:\n",
    "        \n",
    "        actions.move_to_element(imgTag).perform()\n",
    "        link = imgTag.get_attribute(\"src\")\n",
    "        cls_name = imgTag.get_attribute(\"class\")\n",
    "\n",
    "        if cls_name != \"rg_i Q4LuWd\" : continue\n",
    "\n",
    "        extension,content = getContent(link)\n",
    "\n",
    "        file_name = os.path.join(folder,f\"{str(count)}.{extension}\")\n",
    "        with open(file_name,\"wb\") as file:\n",
    "            count += 1\n",
    "            file.write(content)\n",
    "            file.close()\n",
    "\n",
    "        img = cv2.imdecode(frombuffer(content,uint8),cv2.IMREAD_COLOR)\n",
    "        cv2.imshow(\"Frame\",img) # cv2.resize(img,(500,500),cv2.INTER_))\n",
    "        cv2.waitKey(1000)\n",
    "\n",
    "cv2.destroyAllWindows()\n",
    "    "
   ]
  },
  {
   "cell_type": "code",
   "execution_count": null,
   "metadata": {},
   "outputs": [],
   "source": [
    "cv2.destroyAllWindows()"
   ]
  },
  {
   "cell_type": "code",
   "execution_count": null,
   "metadata": {},
   "outputs": [],
   "source": [
    "driver.close()\n",
    "driver.quit()"
   ]
  }
 ],
 "metadata": {
  "kernelspec": {
   "display_name": "Python 3",
   "language": "python",
   "name": "python3"
  },
  "language_info": {
   "codemirror_mode": {
    "name": "ipython",
    "version": 3
   },
   "file_extension": ".py",
   "mimetype": "text/x-python",
   "name": "python",
   "nbconvert_exporter": "python",
   "pygments_lexer": "ipython3",
   "version": "3.9.7"
  }
 },
 "nbformat": 4,
 "nbformat_minor": 2
}
