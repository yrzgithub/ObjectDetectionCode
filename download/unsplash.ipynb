{
 "cells": [
  {
   "cell_type": "code",
   "execution_count": null,
   "metadata": {},
   "outputs": [],
   "source": [
    "from selenium.webdriver import Chrome,ChromeOptions"
   ]
  },
  {
   "cell_type": "code",
   "execution_count": null,
   "metadata": {},
   "outputs": [],
   "source": [
    "from webdriver_manager.chrome import ChromeDriverManager"
   ]
  },
  {
   "cell_type": "code",
   "execution_count": null,
   "metadata": {},
   "outputs": [],
   "source": [
    "from selenium.webdriver.chrome.service import Service"
   ]
  },
  {
   "cell_type": "code",
   "execution_count": null,
   "metadata": {},
   "outputs": [],
   "source": [
    "from selenium.webdriver.common.by import By"
   ]
  },
  {
   "cell_type": "code",
   "execution_count": null,
   "metadata": {},
   "outputs": [],
   "source": [
    "from selenium.webdriver.support.wait import WebDriverWait"
   ]
  },
  {
   "cell_type": "code",
   "execution_count": null,
   "metadata": {},
   "outputs": [],
   "source": [
    "from os import makedirs,getcwd\n",
    "from os.path import isdir,join"
   ]
  },
  {
   "cell_type": "code",
   "execution_count": null,
   "metadata": {},
   "outputs": [],
   "source": [
    "from selenium.webdriver.support.expected_conditions import *"
   ]
  },
  {
   "cell_type": "code",
   "execution_count": null,
   "metadata": {},
   "outputs": [],
   "source": [
    "from selenium.webdriver.common.action_chains import ActionChains"
   ]
  },
  {
   "cell_type": "code",
   "execution_count": null,
   "metadata": {},
   "outputs": [],
   "source": [
    "from numpy import frombuffer,uint8\n",
    "from cv2 import imshow,imdecode,IMREAD_COLOR,waitKey,destroyAllWindows,resize"
   ]
  },
  {
   "cell_type": "code",
   "execution_count": null,
   "metadata": {},
   "outputs": [],
   "source": [
    "from urllib.request import urlretrieve"
   ]
  },
  {
   "cell_type": "code",
   "execution_count": null,
   "metadata": {},
   "outputs": [],
   "source": [
    "import requests"
   ]
  },
  {
   "cell_type": "code",
   "execution_count": null,
   "metadata": {},
   "outputs": [],
   "source": [
    "# query = input()"
   ]
  },
  {
   "cell_type": "code",
   "execution_count": null,
   "metadata": {},
   "outputs": [],
   "source": [
    "def createDir(query):\n",
    "    cwd = getcwd()\n",
    "    folder_path = join(cwd,\"Images\",query)\n",
    "\n",
    "    print(folder_path)\n",
    "\n",
    "    if not isdir(folder_path):\n",
    "        makedirs(folder_path)\n",
    "        print(\"Directory Created\")\n",
    "    \n",
    "    return folder_path"
   ]
  },
  {
   "cell_type": "code",
   "execution_count": null,
   "metadata": {},
   "outputs": [],
   "source": [
    "cm = ChromeDriverManager()"
   ]
  },
  {
   "cell_type": "code",
   "execution_count": 123,
   "metadata": {},
   "outputs": [],
   "source": [
    "driver = Chrome(service=Service(cm.install()))"
   ]
  },
  {
   "cell_type": "code",
   "execution_count": 124,
   "metadata": {},
   "outputs": [],
   "source": [
    "wait = WebDriverWait(driver,3600,ignored_exceptions=StaleElementReferenceException)"
   ]
  },
  {
   "cell_type": "code",
   "execution_count": 125,
   "metadata": {},
   "outputs": [],
   "source": [
    "actionChains = ActionChains(driver)"
   ]
  },
  {
   "cell_type": "code",
   "execution_count": 126,
   "metadata": {},
   "outputs": [],
   "source": [
    "show_image = False\n",
    "numbers = True\n",
    "\n",
    "count = 1\n",
    "total = 500"
   ]
  },
  {
   "cell_type": "code",
   "execution_count": 2,
   "metadata": {},
   "outputs": [
    {
     "name": "stdout",
     "output_type": "stream",
     "text": [
      "['love', 'heart']\n"
     ]
    }
   ],
   "source": [
    "queries = []\n",
    "\n",
    "with open(\"queries.txt\",\"r\") as file:\n",
    "    queries.extend(file.read().split(\"\\n\"))\n",
    "    file.close()\n",
    "\n",
    "print(queries)"
   ]
  },
  {
   "cell_type": "code",
   "execution_count": 128,
   "metadata": {},
   "outputs": [],
   "source": [
    "count = 1"
   ]
  },
  {
   "cell_type": "code",
   "execution_count": 129,
   "metadata": {},
   "outputs": [
    {
     "name": "stdout",
     "output_type": "stream",
     "text": [
      "https://www.pixabay.com/images/search/love\n",
      "d:\\My Apps\\ObjectDetectionCode\\Images\\love\n"
     ]
    },
    {
     "name": "stdout",
     "output_type": "stream",
     "text": [
      "61625\n",
      "617\n",
      "Page :  https://www.pixabay.com/images/search/love?pagi=0\n",
      "Images count :  99\n",
      "1 heart-700141_1280.jpg\n",
      "2 couple-560783_640.jpg\n",
      "3 poster-2690541_640.png\n",
      "4 love-3091214_640.jpg\n",
      "5 art-1839006_640.jpg\n",
      "6 heart-762564_640.jpg\n",
      "7 couple-1375125_640.jpg\n",
      "8 love-3187623_640.jpg\n",
      "9 hearts-1450300_640.jpg\n",
      "10 love-story-3060241_640.jpg\n",
      "11 people-2597454_640.jpg\n",
      "12 for-you-2198772_640.png\n",
      "13 balloons-1046658_640.jpg\n",
      "14 tic-tac-toe-1777859_640.jpg\n",
      "15 couple-1718244_640.jpg\n",
      "16 heart-3147976_640.jpg\n",
      "17 digital-art-398342_640.png\n",
      "18 siblings-817369_640.jpg\n",
      "19 heart-268151_640.jpg\n",
      "20 paper-1100254_640.jpg\n",
      "21 ukraine-7424066_640.png\n",
      "22 lover-4992877_640.png\n",
      "23 hand-1549399_640.jpg\n",
      "24 whisper-408482_640.jpg\n",
      "25 portrait-3113651_640.jpg\n",
      "26 swan-4013225_640.jpg\n",
      "27 man-4052354_640.jpg\n",
      "28 couple-3581038_640.jpg\n",
      "29 sunset-7126126_640.jpg\n",
      "30 couple-1934204_640.jpg\n",
      "31 snail-6855730_640.jpg\n",
      "32 mothers-day-3699995_640.jpg\n",
      "33 puzzle-1721592_640.jpg\n",
      "34 candles-1645551_640.jpg\n",
      "35 hand-7566739_640.jpg\n",
      "36 couple-5028351_640.jpg\n",
      "37 heart-3085515_640.jpg\n",
      "38 couple-3064048_640.jpg\n",
      "39 hearts-5947464_640.png\n",
      "40 a-couple-of-1694334_640.jpg\n",
      "41 heart-1046693_640.jpg\n",
      "42 light-bulb-5831252_640.jpg\n",
      "43 sunset-5383043_640.jpg\n",
      "44 woman-7691013_640.jpg\n",
      "45 roses-2840743_640.jpg\n",
      "46 frame-3925925_640.jpg\n",
      "47 valentin-1306228_640.jpg\n",
      "48 woman-3187620_640.jpg\n",
      "49 children-817365_640.jpg\n",
      "50 couple-2601156_640.jpg\n",
      "51 people-2562102_640.jpg\n",
      "52 daisies-712892_640.jpg\n",
      "53 fantasy-4065900_640.jpg\n",
      "54 couple-7737589_640.png\n",
      "55 man-2933984_640.jpg\n",
      "56 love-7188730_640.png\n",
      "57 sunset-7490522_640.jpg\n",
      "58 bouquet-1790142_640.jpg\n",
      "59 romantic-1934223_640.jpg\n",
      "60 birds-2976899_640.jpg\n",
      "61 couple-3798371_640.jpg\n",
      "62 love-7736559_640.jpg\n",
      "63 balloon-991680_640.jpg\n",
      "64 couple-5028352_640.jpg\n",
      "65 heart-1213475_640.jpg\n",
      "66 love-3388626_640.jpg\n",
      "67 hands-7679387_640.jpg\n",
      "68 wedding-7144049_640.jpg\n",
      "69 birds-5770589_640.jpg\n",
      "70 couple-260899_640.jpg\n",
      "71 sunset-698501_640.jpg\n",
      "72 flower-5267756_640.jpg\n",
      "73 valentines-day-7003478_640.png\n",
      "74 beach-7130484_640.jpg\n",
      "75 mountain-6241333_640.jpg\n",
      "76 couple-7774025_640.jpg\n",
      "77 love-7436367_640.jpg\n",
      "78 wedding-7144053_640.jpg\n",
      "79 fox-807315_640.png\n",
      "80 heart-1164739_640.jpg\n",
      "81 flamingo-600205_640.jpg\n",
      "82 love-6706324_640.jpg\n",
      "83 kiss-6989996_640.jpg\n",
      "84 couple-1853499_640.jpg\n",
      "85 father-and-son-2258681_640.jpg\n",
      "86 couple-7259663_640.jpg\n",
      "87 people-2594745_640.jpg\n",
      "88 love-6713977_640.jpg\n",
      "89 close-up-1869305_640.jpg\n",
      "90 sunset-6237951_640.jpg\n",
      "91 love-6328393_640.jpg\n",
      "92 castles-505878_640.jpg\n",
      "93 sunset-6237959_640.jpg\n",
      "94 couple-7259265_640.jpg\n",
      "95 love-3061483_640.jpg\n",
      "96 rose-3063283_640.jpg\n",
      "97 couple-7127168_640.jpg\n",
      "98 heart-3097905_640.jpg\n",
      "99 she-5391770_640.jpg\n",
      "Page :  https://www.pixabay.com/images/search/love?pagi=1\n",
      "Images count :  98\n"
     ]
    },
    {
     "ename": "StaleElementReferenceException",
     "evalue": "Message: stale element reference: stale element not found\n  (Session info: chrome=121.0.6167.85); For documentation on this error, please visit: https://www.selenium.dev/documentation/webdriver/troubleshooting/errors#stale-element-reference-exception\nStacktrace:\n\tGetHandleVerifier [0x01221673+52979]\n\t(No symbol) [0x011A7961]\n\t(No symbol) [0x0108DD3D]\n\t(No symbol) [0x01091F90]\n\t(No symbol) [0x01093CE7]\n\t(No symbol) [0x010FBDD0]\n\t(No symbol) [0x010E44EC]\n\t(No symbol) [0x010FB3FE]\n\t(No symbol) [0x010E4286]\n\t(No symbol) [0x010BC063]\n\t(No symbol) [0x010BCECD]\n\tGetHandleVerifier [0x01538D83+3294723]\n\tGetHandleVerifier [0x01576CC2+3548482]\n\tGetHandleVerifier [0x01571C9C+3527964]\n\tGetHandleVerifier [0x012B870E+671630]\n\t(No symbol) [0x011B1EB4]\n\t(No symbol) [0x011AD808]\n\t(No symbol) [0x011AD92D]\n\t(No symbol) [0x0119F7E0]\n\tBaseThreadInitThunk [0x767B7BA9+25]\n\tRtlInitializeExceptionChain [0x775BBD2B+107]\n\tRtlClearBits [0x775BBCAF+191]\n",
     "output_type": "error",
     "traceback": [
      "\u001b[1;31m---------------------------------------------------------------------------\u001b[0m",
      "\u001b[1;31mStaleElementReferenceException\u001b[0m            Traceback (most recent call last)",
      "Cell \u001b[1;32mIn[129], line 40\u001b[0m\n\u001b[0;32m     36\u001b[0m \u001b[38;5;28;01mif\u001b[39;00m total\u001b[38;5;241m<\u001b[39mcount : \u001b[38;5;28;01mbreak\u001b[39;00m\n\u001b[0;32m     38\u001b[0m actionChains\u001b[38;5;241m.\u001b[39mmove_to_element(img)\u001b[38;5;241m.\u001b[39mperform()\n\u001b[1;32m---> 40\u001b[0m link \u001b[38;5;241m=\u001b[39m \u001b[43mimg\u001b[49m\u001b[38;5;241;43m.\u001b[39;49m\u001b[43mget_attribute\u001b[49m\u001b[43m(\u001b[49m\u001b[38;5;124;43m\"\u001b[39;49m\u001b[38;5;124;43msrc\u001b[39;49m\u001b[38;5;124;43m\"\u001b[39;49m\u001b[43m)\u001b[49m\n\u001b[0;32m     42\u001b[0m name \u001b[38;5;241m=\u001b[39m link\u001b[38;5;241m.\u001b[39msplit(\u001b[38;5;124m\"\u001b[39m\u001b[38;5;124m/\u001b[39m\u001b[38;5;124m\"\u001b[39m)[\u001b[38;5;241m-\u001b[39m\u001b[38;5;241m1\u001b[39m]\n\u001b[0;32m     43\u001b[0m \u001b[38;5;28mprint\u001b[39m(count,name)\n",
      "File \u001b[1;32md:\\My Apps\\ObjectDetectionCode\\venv\\lib\\site-packages\\selenium\\webdriver\\remote\\webelement.py:178\u001b[0m, in \u001b[0;36mWebElement.get_attribute\u001b[1;34m(self, name)\u001b[0m\n\u001b[0;32m    176\u001b[0m \u001b[38;5;28;01mif\u001b[39;00m getAttribute_js \u001b[38;5;129;01mis\u001b[39;00m \u001b[38;5;28;01mNone\u001b[39;00m:\n\u001b[0;32m    177\u001b[0m     _load_js()\n\u001b[1;32m--> 178\u001b[0m attribute_value \u001b[38;5;241m=\u001b[39m \u001b[38;5;28;43mself\u001b[39;49m\u001b[38;5;241;43m.\u001b[39;49m\u001b[43mparent\u001b[49m\u001b[38;5;241;43m.\u001b[39;49m\u001b[43mexecute_script\u001b[49m\u001b[43m(\u001b[49m\n\u001b[0;32m    179\u001b[0m \u001b[43m    \u001b[49m\u001b[38;5;124;43mf\u001b[39;49m\u001b[38;5;124;43m\"\u001b[39;49m\u001b[38;5;124;43m/* getAttribute */return (\u001b[39;49m\u001b[38;5;132;43;01m{\u001b[39;49;00m\u001b[43mgetAttribute_js\u001b[49m\u001b[38;5;132;43;01m}\u001b[39;49;00m\u001b[38;5;124;43m).apply(null, arguments);\u001b[39;49m\u001b[38;5;124;43m\"\u001b[39;49m\u001b[43m,\u001b[49m\u001b[43m \u001b[49m\u001b[38;5;28;43mself\u001b[39;49m\u001b[43m,\u001b[49m\u001b[43m \u001b[49m\u001b[43mname\u001b[49m\n\u001b[0;32m    180\u001b[0m \u001b[43m\u001b[49m\u001b[43m)\u001b[49m\n\u001b[0;32m    181\u001b[0m \u001b[38;5;28;01mreturn\u001b[39;00m attribute_value\n",
      "File \u001b[1;32md:\\My Apps\\ObjectDetectionCode\\venv\\lib\\site-packages\\selenium\\webdriver\\remote\\webdriver.py:407\u001b[0m, in \u001b[0;36mWebDriver.execute_script\u001b[1;34m(self, script, *args)\u001b[0m\n\u001b[0;32m    404\u001b[0m converted_args \u001b[38;5;241m=\u001b[39m \u001b[38;5;28mlist\u001b[39m(args)\n\u001b[0;32m    405\u001b[0m command \u001b[38;5;241m=\u001b[39m Command\u001b[38;5;241m.\u001b[39mW3C_EXECUTE_SCRIPT\n\u001b[1;32m--> 407\u001b[0m \u001b[38;5;28;01mreturn\u001b[39;00m \u001b[38;5;28;43mself\u001b[39;49m\u001b[38;5;241;43m.\u001b[39;49m\u001b[43mexecute\u001b[49m\u001b[43m(\u001b[49m\u001b[43mcommand\u001b[49m\u001b[43m,\u001b[49m\u001b[43m \u001b[49m\u001b[43m{\u001b[49m\u001b[38;5;124;43m\"\u001b[39;49m\u001b[38;5;124;43mscript\u001b[39;49m\u001b[38;5;124;43m\"\u001b[39;49m\u001b[43m:\u001b[49m\u001b[43m \u001b[49m\u001b[43mscript\u001b[49m\u001b[43m,\u001b[49m\u001b[43m \u001b[49m\u001b[38;5;124;43m\"\u001b[39;49m\u001b[38;5;124;43margs\u001b[39;49m\u001b[38;5;124;43m\"\u001b[39;49m\u001b[43m:\u001b[49m\u001b[43m \u001b[49m\u001b[43mconverted_args\u001b[49m\u001b[43m}\u001b[49m\u001b[43m)\u001b[49m[\u001b[38;5;124m\"\u001b[39m\u001b[38;5;124mvalue\u001b[39m\u001b[38;5;124m\"\u001b[39m]\n",
      "File \u001b[1;32md:\\My Apps\\ObjectDetectionCode\\venv\\lib\\site-packages\\selenium\\webdriver\\remote\\webdriver.py:347\u001b[0m, in \u001b[0;36mWebDriver.execute\u001b[1;34m(self, driver_command, params)\u001b[0m\n\u001b[0;32m    345\u001b[0m response \u001b[38;5;241m=\u001b[39m \u001b[38;5;28mself\u001b[39m\u001b[38;5;241m.\u001b[39mcommand_executor\u001b[38;5;241m.\u001b[39mexecute(driver_command, params)\n\u001b[0;32m    346\u001b[0m \u001b[38;5;28;01mif\u001b[39;00m response:\n\u001b[1;32m--> 347\u001b[0m     \u001b[38;5;28;43mself\u001b[39;49m\u001b[38;5;241;43m.\u001b[39;49m\u001b[43merror_handler\u001b[49m\u001b[38;5;241;43m.\u001b[39;49m\u001b[43mcheck_response\u001b[49m\u001b[43m(\u001b[49m\u001b[43mresponse\u001b[49m\u001b[43m)\u001b[49m\n\u001b[0;32m    348\u001b[0m     response[\u001b[38;5;124m\"\u001b[39m\u001b[38;5;124mvalue\u001b[39m\u001b[38;5;124m\"\u001b[39m] \u001b[38;5;241m=\u001b[39m \u001b[38;5;28mself\u001b[39m\u001b[38;5;241m.\u001b[39m_unwrap_value(response\u001b[38;5;241m.\u001b[39mget(\u001b[38;5;124m\"\u001b[39m\u001b[38;5;124mvalue\u001b[39m\u001b[38;5;124m\"\u001b[39m, \u001b[38;5;28;01mNone\u001b[39;00m))\n\u001b[0;32m    349\u001b[0m     \u001b[38;5;28;01mreturn\u001b[39;00m response\n",
      "File \u001b[1;32md:\\My Apps\\ObjectDetectionCode\\venv\\lib\\site-packages\\selenium\\webdriver\\remote\\errorhandler.py:229\u001b[0m, in \u001b[0;36mErrorHandler.check_response\u001b[1;34m(self, response)\u001b[0m\n\u001b[0;32m    227\u001b[0m         alert_text \u001b[38;5;241m=\u001b[39m value[\u001b[38;5;124m\"\u001b[39m\u001b[38;5;124malert\u001b[39m\u001b[38;5;124m\"\u001b[39m]\u001b[38;5;241m.\u001b[39mget(\u001b[38;5;124m\"\u001b[39m\u001b[38;5;124mtext\u001b[39m\u001b[38;5;124m\"\u001b[39m)\n\u001b[0;32m    228\u001b[0m     \u001b[38;5;28;01mraise\u001b[39;00m exception_class(message, screen, stacktrace, alert_text)  \u001b[38;5;66;03m# type: ignore[call-arg]  # mypy is not smart enough here\u001b[39;00m\n\u001b[1;32m--> 229\u001b[0m \u001b[38;5;28;01mraise\u001b[39;00m exception_class(message, screen, stacktrace)\n",
      "\u001b[1;31mStaleElementReferenceException\u001b[0m: Message: stale element reference: stale element not found\n  (Session info: chrome=121.0.6167.85); For documentation on this error, please visit: https://www.selenium.dev/documentation/webdriver/troubleshooting/errors#stale-element-reference-exception\nStacktrace:\n\tGetHandleVerifier [0x01221673+52979]\n\t(No symbol) [0x011A7961]\n\t(No symbol) [0x0108DD3D]\n\t(No symbol) [0x01091F90]\n\t(No symbol) [0x01093CE7]\n\t(No symbol) [0x010FBDD0]\n\t(No symbol) [0x010E44EC]\n\t(No symbol) [0x010FB3FE]\n\t(No symbol) [0x010E4286]\n\t(No symbol) [0x010BC063]\n\t(No symbol) [0x010BCECD]\n\tGetHandleVerifier [0x01538D83+3294723]\n\tGetHandleVerifier [0x01576CC2+3548482]\n\tGetHandleVerifier [0x01571C9C+3527964]\n\tGetHandleVerifier [0x012B870E+671630]\n\t(No symbol) [0x011B1EB4]\n\t(No symbol) [0x011AD808]\n\t(No symbol) [0x011AD92D]\n\t(No symbol) [0x0119F7E0]\n\tBaseThreadInitThunk [0x767B7BA9+25]\n\tRtlInitializeExceptionChain [0x775BBD2B+107]\n\tRtlClearBits [0x775BBCAF+191]\n"
     ]
    }
   ],
   "source": [
    "for query in queries:\n",
    "    page_link = \"https://www.pixabay.com/images/search/\" + query\n",
    "    print(page_link)\n",
    "\n",
    "    folder_path = createDir(query)\n",
    "\n",
    "    driver.get(page_link)\n",
    "\n",
    "    end = driver.find_element(By.CLASS_NAME,\"position--YADEi\")\n",
    "    total_pages = driver.find_element(By.XPATH,\"/html/body/div[1]/div[1]/div/div[2]/div[4]/div[3]/div\")\n",
    "    next = driver.find_element(By.XPATH,\"/html/body/div[1]/div[1]/div/footer/div[1]/div[1]\")\n",
    "\n",
    "    total_img_n = int(end.text.split(\" \")[2].replace(\",\",\"\"))\n",
    "    total_page_n = int(total_pages.text.replace(\"/\",\"\").strip())\n",
    "\n",
    "    print(total_img_n)\n",
    "    print(total_page_n)\n",
    "\n",
    "    for no in range(total_page_n):\n",
    "        page = page_link + f\"?pagi={no}\"\n",
    "        driver.get(page)\n",
    "\n",
    "        print(\"Page : \",page)\n",
    "\n",
    "        images_element = wait.until(presence_of_element_located((By.CLASS_NAME,\"container--CC4hU\")))\n",
    "        img_tags = images_element.find_elements(By.TAG_NAME,\"img\")\n",
    "        \n",
    "        img_len = len(img_tags)\n",
    "\n",
    "        print(\"Images count : \",img_len)\n",
    "\n",
    "        if count>total : break\n",
    "\n",
    "        for n,img in enumerate(img_tags):\n",
    "\n",
    "            if total<count : break\n",
    "\n",
    "            actionChains.move_to_element(img).perform()\n",
    "\n",
    "            link = img.get_attribute(\"src\")\n",
    "\n",
    "            name = link.split(\"/\")[-1]\n",
    "            print(count,name)\n",
    "        \n",
    "            if \"?\" in name:\n",
    "                name = name.split(\"?\")[0]\n",
    "\n",
    "            if numbers:\n",
    "                name = str(count) + \".png\"\n",
    "\n",
    "            count += 1\n",
    "            \n",
    "            image_bytes = requests.get(link).content\n",
    "\n",
    "            image_buffer = frombuffer(image_bytes,uint8)\n",
    "            image = imdecode(image_buffer,IMREAD_COLOR)\n",
    "\n",
    "            # imwrite(join(folder_path,name),image)\n",
    "\n",
    "            with open(join(folder_path,name),\"wb\") as file:\n",
    "                file.write(image_bytes)\n",
    "                file.close()\n",
    "\n",
    "            if image is not None: imshow(query,resize(image,(500,500)))\n",
    "\n",
    "            waitKey(1000)\n",
    "\n",
    "destroyAllWindows()"
   ]
  },
  {
   "cell_type": "code",
   "execution_count": null,
   "metadata": {},
   "outputs": [],
   "source": [
    "destroyAllWindows()"
   ]
  },
  {
   "cell_type": "code",
   "execution_count": null,
   "metadata": {},
   "outputs": [],
   "source": [
    "driver.close()\n",
    "driver.quit()"
   ]
  }
 ],
 "metadata": {
  "kernelspec": {
   "display_name": "venv",
   "language": "python",
   "name": "python3"
  },
  "language_info": {
   "codemirror_mode": {
    "name": "ipython",
    "version": 3
   },
   "file_extension": ".py",
   "mimetype": "text/x-python",
   "name": "python",
   "nbconvert_exporter": "python",
   "pygments_lexer": "ipython3",
   "version": "3.9.7"
  }
 },
 "nbformat": 4,
 "nbformat_minor": 2
}
