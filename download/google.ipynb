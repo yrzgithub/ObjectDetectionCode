{
 "cells": [
  {
   "cell_type": "code",
   "execution_count": null,
   "metadata": {},
   "outputs": [],
   "source": [
    "# %pip install selenium\n",
    "# %pip install keyboard\n",
    "# %pip install requests\n",
    "# %pip install opencv-python\n",
    "# %pip install pillow\n",
    "# %pip install scikit-image\n",
    "# %pip install numpy"
   ]
  },
  {
   "cell_type": "code",
   "execution_count": null,
   "metadata": {},
   "outputs": [],
   "source": [
    "from selenium.webdriver import Chrome,ChromeOptions"
   ]
  },
  {
   "cell_type": "code",
   "execution_count": null,
   "metadata": {},
   "outputs": [],
   "source": [
    "from webdriver_manager.chrome import ChromeDriverManager"
   ]
  },
  {
   "cell_type": "code",
   "execution_count": null,
   "metadata": {},
   "outputs": [],
   "source": [
    "from selenium.webdriver.chrome.service import Service"
   ]
  },
  {
   "cell_type": "code",
   "execution_count": null,
   "metadata": {},
   "outputs": [],
   "source": [
    "from selenium.webdriver.common.by import By"
   ]
  },
  {
   "cell_type": "code",
   "execution_count": null,
   "metadata": {},
   "outputs": [],
   "source": [
    "from selenium.webdriver.support.wait import WebDriverWait"
   ]
  },
  {
   "cell_type": "code",
   "execution_count": null,
   "metadata": {},
   "outputs": [],
   "source": [
    "from selenium.webdriver.support.expected_conditions import *"
   ]
  },
  {
   "cell_type": "code",
   "execution_count": null,
   "metadata": {},
   "outputs": [],
   "source": [
    "from keyboard import is_pressed"
   ]
  },
  {
   "cell_type": "code",
   "execution_count": null,
   "metadata": {},
   "outputs": [],
   "source": [
    "# from urllib.request import urlretrieve "
   ]
  },
  {
   "cell_type": "code",
   "execution_count": null,
   "metadata": {},
   "outputs": [],
   "source": [
    "from os import getcwd,makedirs"
   ]
  },
  {
   "cell_type": "code",
   "execution_count": null,
   "metadata": {},
   "outputs": [],
   "source": [
    "from os.path import join,isdir"
   ]
  },
  {
   "cell_type": "code",
   "execution_count": null,
   "metadata": {},
   "outputs": [],
   "source": [
    "from cv2 import imshow,waitKey,destroyAllWindows,imread,IMREAD_COLOR,imdecode,resize,cvtColor,imwrite,COLOR_BGR2RGB"
   ]
  },
  {
   "cell_type": "code",
   "execution_count": null,
   "metadata": {},
   "outputs": [],
   "source": [
    "from skimage import io"
   ]
  },
  {
   "cell_type": "code",
   "execution_count": null,
   "metadata": {},
   "outputs": [],
   "source": [
    "from base64 import b64decode,urlsafe_b64decode"
   ]
  },
  {
   "cell_type": "code",
   "execution_count": null,
   "metadata": {},
   "outputs": [],
   "source": [
    "from numpy import fromstring,uint8,frombuffer"
   ]
  },
  {
   "cell_type": "code",
   "execution_count": null,
   "metadata": {},
   "outputs": [],
   "source": [
    "from time import sleep"
   ]
  },
  {
   "cell_type": "code",
   "execution_count": null,
   "metadata": {},
   "outputs": [],
   "source": [
    "options = ChromeOptions()\n",
    "options.add_argument(\"--headless\")"
   ]
  },
  {
   "cell_type": "code",
   "execution_count": null,
   "metadata": {},
   "outputs": [],
   "source": [
    "query = input(\"Enter the keyword : \").title().strip()\n",
    "default_url = \"https://www.google.com/images?q=\" + query\n",
    "\n",
    "if query.isspace() or query==\"\":\n",
    "    raise Exception(\"Query is Empty\")\n",
    "\n",
    "print(default_url)"
   ]
  },
  {
   "cell_type": "code",
   "execution_count": null,
   "metadata": {},
   "outputs": [],
   "source": [
    "cm = ChromeDriverManager()\n",
    "driver = Chrome(service=Service(cm.install()),options=None)"
   ]
  },
  {
   "cell_type": "code",
   "execution_count": null,
   "metadata": {},
   "outputs": [],
   "source": [
    "driver.get(default_url)"
   ]
  },
  {
   "cell_type": "code",
   "execution_count": null,
   "metadata": {},
   "outputs": [],
   "source": [
    "# driver.maximize_window()"
   ]
  },
  {
   "cell_type": "code",
   "execution_count": null,
   "metadata": {},
   "outputs": [],
   "source": [
    "wait = WebDriverWait(driver,300)"
   ]
  },
  {
   "cell_type": "code",
   "execution_count": null,
   "metadata": {},
   "outputs": [],
   "source": [
    "atags = wait.until(presence_of_all_elements_located((By.TAG_NAME,\"img\")))"
   ]
  },
  {
   "cell_type": "code",
   "execution_count": null,
   "metadata": {},
   "outputs": [],
   "source": [
    "driver.find_element(By.CLASS_NAME,\"LZ4I\").is_displayed()"
   ]
  },
  {
   "cell_type": "code",
   "execution_count": null,
   "metadata": {},
   "outputs": [],
   "source": [
    "show_more = driver.find_element(By.CLASS_NAME,\"LZ4I\")"
   ]
  },
  {
   "cell_type": "code",
   "execution_count": null,
   "metadata": {},
   "outputs": [],
   "source": [
    "end_xpath = \"/html/body/div[2]/c-wiz/div[3]/div[1]/div/div/div/div/div[1]/div[2]/div[1]/div[2]/div[1]/div\"\n",
    "more_anyway = \"/html/body/div[2]/c-wiz/div[3]/div[1]/div/div/div/div/div[2]\"\n"
   ]
  },
  {
   "cell_type": "code",
   "execution_count": null,
   "metadata": {},
   "outputs": [],
   "source": [
    "print(\"scrolling\")\n",
    " \n",
    "while not is_pressed('esc'):\n",
    "\n",
    "    try:\n",
    "        end = driver.find_element(By.XPATH,end_xpath)\n",
    "        more = driver.find_element(By.XPATH,more_anyway)\n",
    "        assert not end.is_displayed()\n",
    "        assert not more.is_displayed()\n",
    "\n",
    "    except NoSuchElementException:\n",
    "        pass\n",
    "\n",
    "    except AssertionError:\n",
    "        break\n",
    "    \n",
    "    driver.execute_script(\"window.scrollTo(0,document.body.scrollHeight)\")\n",
    "    if show_more.is_displayed():\n",
    "        print(\"Show more clicked\")\n",
    "        show_more.click() \n",
    "\n",
    "print(\"Reached the page end...\")"
   ]
  },
  {
   "cell_type": "code",
   "execution_count": null,
   "metadata": {},
   "outputs": [],
   "source": [
    "common_link = \"https://encrypted-tbn0.gstatic.com/images?q\""
   ]
  },
  {
   "cell_type": "code",
   "execution_count": null,
   "metadata": {},
   "outputs": [],
   "source": [
    "wait.until(all_of(presence_of_all_elements_located((By.TAG_NAME,\"img\")),element_attribute_to_include((By.TAG_NAME,\"img\"),\"src\")))\n",
    "\n",
    "print(\"Extracting Links\")\n",
    "\n",
    "links = []\n",
    "for element in driver.find_elements(By.TAG_NAME,\"img\"):\n",
    "    link = element.get_attribute(\"src\")\n",
    "    if link is None:                                                                              # or not link.startswith(common_link):\n",
    "        continue \n",
    "    \n",
    "    if link.startswith(common_link):\n",
    "        links.append(link)\n",
    "    \n",
    "    elif link.startswith(\"data:image\"):\n",
    "        lnk = link[link.find(\"/9j\"):]\n",
    "        links.append(lnk)"
   ]
  },
  {
   "cell_type": "code",
   "execution_count": null,
   "metadata": {},
   "outputs": [],
   "source": [
    "print(len(links),\"images found\")"
   ]
  },
  {
   "cell_type": "code",
   "execution_count": null,
   "metadata": {},
   "outputs": [],
   "source": [
    "cwd = getcwd()\n",
    "cwd"
   ]
  },
  {
   "cell_type": "code",
   "execution_count": null,
   "metadata": {},
   "outputs": [],
   "source": [
    "# folder_path = join(cwd,\"Images\",query)\n",
    "folder_path = r\"D:\\My Apps\\Object Detection\\girl child\\train\\Images\""
   ]
  },
  {
   "cell_type": "code",
   "execution_count": null,
   "metadata": {},
   "outputs": [],
   "source": [
    "if not isdir(folder_path):\n",
    "    makedirs(folder_path)"
   ]
  },
  {
   "cell_type": "code",
   "execution_count": null,
   "metadata": {},
   "outputs": [],
   "source": [
    "for index,link in enumerate(links):\n",
    "    path = join(folder_path,str(index)+\".png\")\n",
    "\n",
    "    if link.startswith(\"http\"):\n",
    "        img = io.imread(link)\n",
    "        img = cvtColor(img,COLOR_BGR2RGB)\n",
    "        \n",
    "    elif link.startswith(\"/9j\"):                                          # b64 - binary data as ASCII text\n",
    "        img = imdecode(frombuffer(b64decode(link),uint8),IMREAD_COLOR)\n",
    "    \n",
    "    imshow(\"Frame\",resize(img,(500,500)))\n",
    "    imwrite(path,img)\n",
    "    waitKey(100)\n",
    "\n",
    "destroyAllWindows()"
   ]
  },
  {
   "cell_type": "code",
   "execution_count": null,
   "metadata": {},
   "outputs": [],
   "source": [
    "destroyAllWindows()"
   ]
  },
  {
   "cell_type": "code",
   "execution_count": null,
   "metadata": {},
   "outputs": [],
   "source": [
    "driver.close()\n",
    "driver.quit()"
   ]
  }
 ],
 "metadata": {
  "kernelspec": {
   "display_name": "Python 3",
   "language": "python",
   "name": "python3"
  },
  "language_info": {
   "codemirror_mode": {
    "name": "ipython",
    "version": 3
   },
   "file_extension": ".py",
   "mimetype": "text/x-python",
   "name": "python",
   "nbconvert_exporter": "python",
   "pygments_lexer": "ipython3",
   "version": "3.12.0"
  }
 },
 "nbformat": 4,
 "nbformat_minor": 2
}
