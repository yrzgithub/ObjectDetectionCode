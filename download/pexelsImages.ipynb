{
 "cells": [
  {
   "cell_type": "code",
   "execution_count": 1,
   "metadata": {},
   "outputs": [],
   "source": [
    "from selenium.webdriver import Chrome"
   ]
  },
  {
   "cell_type": "code",
   "execution_count": 2,
   "metadata": {},
   "outputs": [],
   "source": [
    "from selenium.webdriver.chrome.service import Service"
   ]
  },
  {
   "cell_type": "code",
   "execution_count": 3,
   "metadata": {},
   "outputs": [],
   "source": [
    "from selenium.webdriver.common.by import By"
   ]
  },
  {
   "cell_type": "code",
   "execution_count": 4,
   "metadata": {},
   "outputs": [],
   "source": [
    "from selenium.webdriver.common.action_chains import ActionChains"
   ]
  },
  {
   "cell_type": "code",
   "execution_count": 5,
   "metadata": {},
   "outputs": [],
   "source": [
    "from selenium.webdriver.support.expected_conditions import *"
   ]
  },
  {
   "cell_type": "code",
   "execution_count": 6,
   "metadata": {},
   "outputs": [],
   "source": [
    "from selenium.webdriver.support.wait import WebDriverWait as Wait"
   ]
  },
  {
   "cell_type": "code",
   "execution_count": 7,
   "metadata": {},
   "outputs": [],
   "source": [
    "from cv2 import imdecode,IMREAD_COLOR,imshow,waitKey,resize,destroyAllWindows"
   ]
  },
  {
   "cell_type": "code",
   "execution_count": 8,
   "metadata": {},
   "outputs": [],
   "source": [
    "from numpy import frombuffer,uint8"
   ]
  },
  {
   "cell_type": "code",
   "execution_count": 9,
   "metadata": {},
   "outputs": [],
   "source": [
    "from base64 import decode"
   ]
  },
  {
   "cell_type": "code",
   "execution_count": 10,
   "metadata": {},
   "outputs": [],
   "source": [
    "import requests"
   ]
  },
  {
   "cell_type": "code",
   "execution_count": 11,
   "metadata": {},
   "outputs": [],
   "source": [
    "from os import getcwd,makedirs\n",
    "from os.path import *"
   ]
  },
  {
   "cell_type": "code",
   "execution_count": 12,
   "metadata": {},
   "outputs": [],
   "source": [
    "from webdriver_manager.chrome import ChromeDriverManager as cm"
   ]
  },
  {
   "cell_type": "code",
   "execution_count": 13,
   "metadata": {},
   "outputs": [],
   "source": [
    "chrome = Chrome(service=Service(cm().install()))"
   ]
  },
  {
   "cell_type": "code",
   "execution_count": 14,
   "metadata": {},
   "outputs": [
    {
     "name": "stdout",
     "output_type": "stream",
     "text": [
      "['military tanks', 'guns', 'missiles']\n"
     ]
    }
   ],
   "source": [
    "queries = []\n",
    "\n",
    "with open(\"queries.txt\",mode=\"r\") as file:\n",
    "    queries.extend(file.read().split(\"\\n\"))\n",
    "    file.close()\n",
    "\n",
    "print(queries)"
   ]
  },
  {
   "cell_type": "code",
   "execution_count": 15,
   "metadata": {},
   "outputs": [],
   "source": [
    "wait = Wait(chrome,3600)\n",
    "action = ActionChains(chrome)"
   ]
  },
  {
   "cell_type": "code",
   "execution_count": 16,
   "metadata": {},
   "outputs": [],
   "source": [
    "count = 1000\n",
    "img_group_path = \"/html/body/div[2]/main/div[4]/div[1]/div\""
   ]
  },
  {
   "cell_type": "code",
   "execution_count": 20,
   "metadata": {},
   "outputs": [
    {
     "name": "stdout",
     "output_type": "stream",
     "text": [
      "d:\\My Apps\\ObjectDetectionCode\\Images\\military tanks\n",
      "24\n",
      "52\n",
      "80\n",
      "104\n",
      "104\n",
      "132\n",
      "132\n",
      "160\n",
      "160\n",
      "188\n",
      "188\n",
      "216\n",
      "216\n",
      "216\n",
      "216\n",
      "244\n",
      "244\n",
      "244\n",
      "244\n",
      "244\n",
      "268\n",
      "268\n",
      "268\n",
      "296\n",
      "296\n",
      "296\n",
      "324\n",
      "324\n",
      "324\n",
      "352\n",
      "352\n",
      "352\n",
      "380\n",
      "380\n",
      "380\n",
      "408\n",
      "408\n",
      "408\n",
      "432\n",
      "432\n",
      "432\n",
      "460\n",
      "460\n",
      "460\n",
      "460\n",
      "488\n",
      "488\n",
      "488\n",
      "516\n",
      "516\n",
      "516\n",
      "516\n",
      "516\n",
      "544\n",
      "544\n",
      "544\n",
      "544\n",
      "544\n",
      "544\n",
      "568\n",
      "568\n",
      "568\n",
      "596\n",
      "596\n",
      "596\n",
      "596\n",
      "624\n",
      "624\n",
      "624\n",
      "624\n",
      "652\n",
      "652\n",
      "652\n",
      "652\n",
      "680\n",
      "680\n",
      "680\n",
      "680\n",
      "708\n",
      "708\n",
      "708\n",
      "708\n",
      "708\n",
      "708\n",
      "708\n",
      "732\n",
      "732\n",
      "732\n",
      "732\n",
      "760\n",
      "760\n",
      "760\n",
      "760\n",
      "760\n",
      "760\n",
      "760\n",
      "788\n",
      "788\n",
      "788\n",
      "788\n",
      "788\n",
      "788\n",
      "788\n",
      "816\n",
      "816\n",
      "816\n",
      "816\n",
      "816\n",
      "816\n",
      "844\n",
      "844\n",
      "844\n",
      "844\n",
      "844\n",
      "844\n",
      "872\n",
      "872\n",
      "872\n",
      "872\n",
      "872\n",
      "872\n",
      "896\n",
      "896\n",
      "896\n",
      "896\n",
      "896\n",
      "924\n",
      "924\n",
      "924\n",
      "924\n",
      "952\n",
      "952\n",
      "952\n",
      "952\n",
      "952\n",
      "980\n",
      "980\n",
      "980\n",
      "1008\n"
     ]
    }
   ],
   "source": [
    "for query in queries:\n",
    "    destroyAllWindows()\n",
    "\n",
    "    folder_path = join(getcwd(),\"Images\",query)\n",
    "    print(folder_path)\n",
    "\n",
    "    if not isdir(folder_path):\n",
    "        makedirs(folder_path)\n",
    "        print(\"Dir Created\")\n",
    "    \n",
    "    url = f\"https://www.pexels.com/search/{query}\"\n",
    "\n",
    "    chrome.get(url)\n",
    "\n",
    "    images = []\n",
    "    image_group = chrome.find_element(By.XPATH,img_group_path)\n",
    "    height = 1000 # image_group.size[\"height\"]\n",
    " \n",
    "    img_len = 0\n",
    "    while img_len<count:\n",
    "        images = image_group.find_elements(By.TAG_NAME,\"img\")\n",
    "        chrome.execute_script(f\"window.scrollBy(0,{height})\")\n",
    "        wait.until(invisibility_of_element((By.CLASS_NAME,\"Loading_container__7S4ir\")))\n",
    "        img_len = len(images)\n",
    "        print(img_len)\n",
    "\n",
    "    links = image_group.find_elements(By.TAG_NAME,\"img\")\n",
    "\n",
    "    image_links = [link.get_attribute(\"src\").split(\"?\")[0] for link in links]\n",
    "\n",
    "    for n,link in enumerate(image_links,1):\n",
    "        path = join(folder_path, str(n) + \".jpg\")\n",
    "        bytes_buffer = requests.get(link).content\n",
    "\n",
    "        img = imdecode(frombuffer(bytes_buffer,uint8),IMREAD_COLOR)\n",
    "        imshow(\"images\",resize(img,(500,500)))\n",
    "\n",
    "        waitKey(1000)\n",
    "\n",
    "        with open(path,mode=\"wb\") as file:\n",
    "            file.write(bytes_buffer)\n",
    "            file.close()\n"
   ]
  },
  {
   "cell_type": "code",
   "execution_count": null,
   "metadata": {},
   "outputs": [],
   "source": [
    "destroyAllWindows()"
   ]
  },
  {
   "cell_type": "code",
   "execution_count": null,
   "metadata": {},
   "outputs": [],
   "source": [
    "chrome.close()\n",
    "chrome.quit()"
   ]
  }
 ],
 "metadata": {
  "kernelspec": {
   "display_name": "venv",
   "language": "python",
   "name": "python3"
  },
  "language_info": {
   "codemirror_mode": {
    "name": "ipython",
    "version": 3
   },
   "file_extension": ".py",
   "mimetype": "text/x-python",
   "name": "python",
   "nbconvert_exporter": "python",
   "pygments_lexer": "ipython3",
   "version": "3.12.0"
  }
 },
 "nbformat": 4,
 "nbformat_minor": 2
}
